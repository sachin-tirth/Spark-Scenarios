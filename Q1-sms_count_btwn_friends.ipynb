{
 "cells": [
  {
   "cell_type": "code",
   "execution_count": 4,
   "id": "38a74bd8",
   "metadata": {},
   "outputs": [],
   "source": [
    "from pyspark.sql import SparkSession\n",
    "import getpass\n",
    "username=getpass.getuser()\n",
    "spark= SparkSession. \\\n",
    "builder. \\\n",
    "enableHiveSupport(). \\\n",
    "master('yarn'). \\\n",
    "appName(\"spark_scenarios\"). \\\n",
    "config('spark.ui.port','0'). \\\n",
    "config('spark.sql.warehouse.dir',f\"/user/{username}/warehouse\"). \\\n",
    "getOrCreate()"
   ]
  },
  {
   "cell_type": "code",
   "execution_count": 3,
   "id": "e5a7e490",
   "metadata": {},
   "outputs": [
    {
     "data": {
      "text/html": [
       "\n",
       "            <div>\n",
       "                <p><b>SparkSession - hive</b></p>\n",
       "                \n",
       "        <div>\n",
       "            <p><b>SparkContext</b></p>\n",
       "\n",
       "            <p><a href=\"http://g01.itversity.com:40273\">Spark UI</a></p>\n",
       "\n",
       "            <dl>\n",
       "              <dt>Version</dt>\n",
       "                <dd><code>v3.1.2</code></dd>\n",
       "              <dt>Master</dt>\n",
       "                <dd><code>yarn</code></dd>\n",
       "              <dt>AppName</dt>\n",
       "                <dd><code>spark_scenarios</code></dd>\n",
       "            </dl>\n",
       "        </div>\n",
       "        \n",
       "            </div>\n",
       "        "
      ],
      "text/plain": [
       "<pyspark.sql.session.SparkSession at 0x7faf1dd0f518>"
      ]
     },
     "execution_count": 3,
     "metadata": {},
     "output_type": "execute_result"
    }
   ],
   "source": [
    "spark"
   ]
  },
  {
   "cell_type": "markdown",
   "id": "192897aa",
   "metadata": {},
   "source": [
    "#### Get the total number of sms exchanged between two people."
   ]
  },
  {
   "cell_type": "code",
   "execution_count": 7,
   "id": "d1e20d58",
   "metadata": {},
   "outputs": [],
   "source": [
    "sms_head=['sms_date','sender','receiver','sms_no']\n",
    "sms_data=[('2020-04-01','Avinash','Vibhor','10'),\n",
    "            ('2020-04-01','Vibhor','Avinash','20'),\n",
    "            ('2020-04-01','Avinash','Pawan','30'),\n",
    "            ('2020-04-01','Pawan','Avinash','20'),\n",
    "            ('2020-04-01','Vibhor','Pawan','5'),\n",
    "            ('2020-04-01','Pawan','Vibhor','8'),\n",
    "            ('2020-04-01','Vibhor','Deepak','50')]\n"
   ]
  },
  {
   "cell_type": "code",
   "execution_count": 8,
   "id": "8b5cc737",
   "metadata": {},
   "outputs": [
    {
     "name": "stdout",
     "output_type": "stream",
     "text": [
      "+----------+-------+--------+------+\n",
      "|  sms_date| sender|receiver|sms_no|\n",
      "+----------+-------+--------+------+\n",
      "|2020-04-01|Avinash|  Vibhor|    10|\n",
      "|2020-04-01| Vibhor| Avinash|    20|\n",
      "|2020-04-01|Avinash|   Pawan|    30|\n",
      "|2020-04-01|  Pawan| Avinash|    20|\n",
      "|2020-04-01| Vibhor|   Pawan|     5|\n",
      "|2020-04-01|  Pawan|  Vibhor|     8|\n",
      "|2020-04-01| Vibhor|  Deepak|    50|\n",
      "+----------+-------+--------+------+\n",
      "\n"
     ]
    }
   ],
   "source": [
    "sms_df=spark.createDataFrame(sms_data,schema=sms_head)\n",
    "sms_df.show()"
   ]
  },
  {
   "cell_type": "code",
   "execution_count": 10,
   "id": "3519cc81",
   "metadata": {},
   "outputs": [
    {
     "name": "stdout",
     "output_type": "stream",
     "text": [
      "+----------+-------+--------+------+-------+-------+\n",
      "|  sms_date| sender|receiver|sms_no|person1|person2|\n",
      "+----------+-------+--------+------+-------+-------+\n",
      "|2020-04-01|Avinash|  Vibhor|    10|Avinash| Vibhor|\n",
      "|2020-04-01| Vibhor| Avinash|    20|Avinash| Vibhor|\n",
      "|2020-04-01|Avinash|   Pawan|    30|Avinash|  Pawan|\n",
      "|2020-04-01|  Pawan| Avinash|    20|Avinash|  Pawan|\n",
      "|2020-04-01| Vibhor|   Pawan|     5|  Pawan| Vibhor|\n",
      "|2020-04-01|  Pawan|  Vibhor|     8|  Pawan| Vibhor|\n",
      "|2020-04-01| Vibhor|  Deepak|    50| Deepak| Vibhor|\n",
      "+----------+-------+--------+------+-------+-------+\n",
      "\n"
     ]
    }
   ],
   "source": [
    "from pyspark.sql.functions import *\n",
    "sms_df_1=sms_df.withColumn(\"person1\",when((col(\"sender\") < col(\"receiver\")),col(\"sender\")).otherwise(col(\"receiver\"))) \\\n",
    ".withColumn(\"person2\",when((col(\"sender\") < col(\"receiver\")),col(\"receiver\")).otherwise(col(\"sender\")))\n",
    "sms_df_1.show()"
   ]
  },
  {
   "cell_type": "code",
   "execution_count": 11,
   "id": "59cb61a5",
   "metadata": {},
   "outputs": [
    {
     "name": "stdout",
     "output_type": "stream",
     "text": [
      "+-------+-------+----------+---------+\n",
      "|person1|person2|  sms_date|Total_sms|\n",
      "+-------+-------+----------+---------+\n",
      "|Avinash|  Pawan|2020-04-01|     50.0|\n",
      "|Avinash| Vibhor|2020-04-01|     30.0|\n",
      "| Deepak| Vibhor|2020-04-01|     50.0|\n",
      "|  Pawan| Vibhor|2020-04-01|     13.0|\n",
      "+-------+-------+----------+---------+\n",
      "\n"
     ]
    }
   ],
   "source": [
    "sms_df_2=sms_df_1.groupBy(\"person1\",\"person2\",\"sms_date\").agg(sum(\"sms_no\").alias(\"Total_sms\")) \\\n",
    ".orderBy(\"sms_date\",\"person1\",\"person2\")\n",
    "sms_df_2.show()"
   ]
  },
  {
   "cell_type": "code",
   "execution_count": null,
   "id": "a0f8b14c",
   "metadata": {},
   "outputs": [],
   "source": []
  }
 ],
 "metadata": {
  "kernelspec": {
   "display_name": "Pyspark 3",
   "language": "python",
   "name": "pyspark3"
  },
  "language_info": {
   "codemirror_mode": {
    "name": "ipython",
    "version": 3
   },
   "file_extension": ".py",
   "mimetype": "text/x-python",
   "name": "python",
   "nbconvert_exporter": "python",
   "pygments_lexer": "ipython3",
   "version": "3.6.12"
  }
 },
 "nbformat": 4,
 "nbformat_minor": 5
}
